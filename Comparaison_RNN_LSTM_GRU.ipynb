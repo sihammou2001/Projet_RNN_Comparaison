{
 "cells": [
  {
   "cell_type": "code",
   "execution_count": null,
   "id": "31c05ed7-0fb3-4173-8062-28c81971668b",
   "metadata": {},
   "outputs": [],
   "source": [
    "import tensorflow as tf\n",
    "from tensorflow.keras.datasets import imdb\n",
    "from tensorflow.keras.models import Sequential\n",
    "from tensorflow.keras.layers import Embedding, SimpleRNN, LSTM, GRU, Dense\n",
    "from tensorflow.keras.preprocessing import sequence\n",
    "import numpy as np\n",
    "import matplotlib.pyplot as plt\n",
    "%matplotlib inline  # Pour afficher les graphs dans le notebook"
   ]
  },
  {
   "cell_type": "code",
   "execution_count": null,
   "id": "b05f81da-f26b-4440-b16e-589da8825178",
   "metadata": {},
   "outputs": [],
   "source": [
    "max_words = 5000  # Vocabulaire limité aux 5 000 mots les plus fréquents\n",
    "max_len = 200     # Longueur maximale des critiques\n",
    "\n",
    "(X_train, y_train), (X_test, y_test) = imdb.load_data(num_words=max_words)\n",
    "X_train = sequence.pad_sequences(X_train, maxlen=max_len)\n",
    "X_test = sequence.pad_sequences(X_test, maxlen=max_len)"
   ]
  },
  {
   "cell_type": "code",
   "execution_count": null,
   "id": "4c26fc49-d3ef-411e-947b-b56e70e5e16f",
   "metadata": {},
   "outputs": [],
   "source": [
    "def build_model(rnn_type):\n",
    "    model = Sequential()\n",
    "    model.add(Embedding(max_words, 128))\n",
    "    \n",
    "    if rnn_type == 'simple':\n",
    "        model.add(SimpleRNN(64))\n",
    "    elif rnn_type == 'lstm':\n",
    "        model.add(LSTM(64))\n",
    "    else:\n",
    "        model.add(GRU(64))\n",
    "        \n",
    "    model.add(Dense(1, activation='sigmoid'))\n",
    "    model.compile(loss='binary_crossentropy',\n",
    "                 optimizer='adam',\n",
    "                 metrics=['accuracy'])\n",
    "    return model"
   ]
  },
  {
   "cell_type": "code",
   "execution_count": null,
   "id": "926bd4d0-c8b3-41a0-ba14-adbf53cadb1a",
   "metadata": {},
   "outputs": [],
   "source": [
    "plt.figure(figsize=(10, 5))\n",
    "\n",
    "for rnn_type in ['simple', 'lstm', 'gru']:\n",
    "    model = build_model(rnn_type)\n",
    "    print(f\"\\n=== Entraînement {rnn_type.upper()} ===\")\n",
    "    history = model.fit(X_train, y_train,\n",
    "                       batch_size=128,\n",
    "                       epochs=5,\n",
    "                       validation_data=(X_test, y_test),\n",
    "                       verbose=1)\n",
    "    \n",
    "    # Sauvegarde du modèle\n",
    "    model.save(f'{rnn_type}_model.keras')\n",
    "    \n",
    "    # Courbe de performance\n",
    "    plt.plot(history.history['val_accuracy'], label=rnn_type.upper())\n",
    "\n",
    "plt.title('Comparaison des performances')\n",
    "plt.xlabel('Epochs')\n",
    "plt.ylabel('Validation Accuracy')\n",
    "plt.legend()\n",
    "plt.show()"
   ]
  },
  {
   "cell_type": "code",
   "execution_count": null,
   "id": "0a11dab6-d649-48ac-9745-6e9a984d2a50",
   "metadata": {},
   "outputs": [],
   "source": [
    "word_index = imdb.get_word_index()\n",
    "reverse_word_index = {v: k for k, v in word_index.items()}\n",
    "\n",
    "def predict_sentiment(model, text):\n",
    "    words = text.lower().split()\n",
    "    encoded = [word_index[word] for word in words if word in word_index]\n",
    "    padded = sequence.pad_sequences([encoded], maxlen=max_len)\n",
    "    pred = model.predict(padded)[0][0]\n",
    "    return \"POSITIF\" if pred > 0.5 else \"NEGATIF\", pred\n",
    "\n",
    "test_phrases = [\n",
    "    \"This movie was a masterpiece of cinema\",\n",
    "    \"I've never seen something so terrible\",\n",
    "    \"The film had good ideas but poor execution\"\n",
    "]\n",
    "\n",
    "for rnn_type in ['simple', 'lstm', 'gru']:\n",
    "    model = tf.keras.models.load_model(f'{rnn_type}_model.keras')\n",
    "    print(f\"\\n=== Prédictions {rnn_type.upper()} ===\")\n",
    "    for phrase in test_phrases:\n",
    "        sentiment, score = predict_sentiment(model, phrase)\n",
    "        print(f\"{phrase[:50]}... → {sentiment} ({score:.2f})\")"
   ]
  },
  {
   "cell_type": "code",
   "execution_count": null,
   "id": "24e5750b-411c-45a3-9bc2-4ed1645c44f3",
   "metadata": {},
   "outputs": [],
   "source": []
  }
 ],
 "metadata": {
  "kernelspec": {
   "display_name": "Python 3 (ipykernel)",
   "language": "python",
   "name": "python3"
  },
  "language_info": {
   "codemirror_mode": {
    "name": "ipython",
    "version": 3
   },
   "file_extension": ".py",
   "mimetype": "text/x-python",
   "name": "python",
   "nbconvert_exporter": "python",
   "pygments_lexer": "ipython3",
   "version": "3.11.9"
  }
 },
 "nbformat": 4,
 "nbformat_minor": 5
}
